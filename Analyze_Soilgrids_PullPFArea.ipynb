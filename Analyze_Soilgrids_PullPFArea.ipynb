{
 "cells": [
  {
   "cell_type": "code",
   "execution_count": 1,
   "id": "0ce90a1c-1adf-4606-9a64-b7ee733d3df1",
   "metadata": {},
   "outputs": [],
   "source": [
    "import geopandas as gpd\n",
    "import numpy as np\n",
    "from shapely.geometry import Polygon"
   ]
  },
  {
   "cell_type": "markdown",
   "id": "51300709-0be7-4063-a17f-782fd556b14f",
   "metadata": {},
   "source": [
    "#### load Yedoma dataset "
   ]
  },
  {
   "cell_type": "code",
   "execution_count": 69,
   "id": "2ac639de-9fc5-4503-b42b-51529ac119fd",
   "metadata": {},
   "outputs": [],
   "source": [
    "gdf_pf = gpd.read_file('data/IPA_map_PF_Ground_ice/permaice.shp')"
   ]
  },
  {
   "cell_type": "markdown",
   "id": "14363d5b-3610-4b4e-b60f-eee3dcce271a",
   "metadata": {},
   "source": [
    "#### create dense fisnet for later reprocessing "
   ]
  },
  {
   "cell_type": "code",
   "execution_count": 3,
   "id": "1fb0afd2-3315-40a7-ba55-3fe02ce1ef1d",
   "metadata": {},
   "outputs": [],
   "source": [
    "def create_fishnet(xmin, ymin, xmax, ymax, y_grid_size=1, x_grid_size=0.1):\n",
    "    # Create a list of x and y coordinates for each cell in the fishnet\n",
    "    y_coords = list(np.arange(int(ymin), int(ymax) + y_grid_size, y_grid_size))\n",
    "    x_coords = list(np.arange(int(xmin), int(xmax) + x_grid_size, x_grid_size))\n",
    "\n",
    "    # Create a list of polygons for each cell in the fishnet\n",
    "    polygons = []\n",
    "    for y in y_coords:\n",
    "        for x in x_coords:\n",
    "            polygons.append(Polygon([(x, y), (x + x_grid_size, y), (x + x_grid_size, y + y_grid_size), (x, y + y_grid_size)]))\n",
    "    \n",
    "    # Create a GeoDataFrame from the list of polygons\n",
    "    fishnet = gpd.GeoDataFrame(geometry=polygons)\n",
    "    \n",
    "    # Set the coordinate reference system (CRS) to WGS84\n",
    "    fishnet.crs = 'EPSG:4326'\n",
    "    \n",
    "    # Add the southern latitude coordinate as an attribute\n",
    "    fishnet['latitude'] = fishnet.geometry.bounds['miny']\n",
    "    \n",
    "    return fishnet"
   ]
  },
  {
   "cell_type": "code",
   "execution_count": 70,
   "id": "4cfadf89-f962-4cb4-a62a-20f0b087654e",
   "metadata": {},
   "outputs": [],
   "source": [
    "cleaned = gdf_pf.dropna(subset='EXTENT')"
   ]
  },
  {
   "cell_type": "code",
   "execution_count": 15,
   "id": "7c33ac59-7d2c-4641-bd7b-5132ab08b6df",
   "metadata": {},
   "outputs": [],
   "source": [
    "xgrid=0.1\n",
    "fishnet = create_fishnet(-180, 20, 180, 90, x_grid_size=xgrid, y_grid_size=1)"
   ]
  },
  {
   "cell_type": "code",
   "execution_count": 45,
   "id": "86f35483-f5e7-4d32-b76b-8d19fb556180",
   "metadata": {},
   "outputs": [],
   "source": [
    "fishnet_EA = fishnet.to_crs('+proj=laea +lat_0=90 +lon_0=0 +x_0=0 +y_0=0 +ellps=WGS84 +units=m +no_defs')"
   ]
  },
  {
   "cell_type": "code",
   "execution_count": 46,
   "id": "0710665b-fef4-4452-96b7-de66ed899e00",
   "metadata": {},
   "outputs": [
    {
     "name": "stderr",
     "output_type": "stream",
     "text": [
      "/isipd/projects-noreplica/p_initze/anaconda3/envs/ML2/lib/python3.9/site-packages/geopandas/geodataframe.py:2352: UserWarning: CRS mismatch between the CRS of left geometries and the CRS of right geometries.\n",
      "Use `to_crs()` to reproject one of the input geometries to match the CRS of the other.\n",
      "\n",
      "Left CRS: +proj=laea +lat_0=90 +lon_0=0 +x_0=0 +y_0=0 +ellps ...\n",
      "Right CRS: EPSG:4326\n",
      "\n",
      "  return geopandas.overlay(\n"
     ]
    }
   ],
   "source": [
    "#calculate intersection\n",
    "#intersection = fishnet.overlay(cleaned, how='intersection')\n",
    "intersection = fishnet_EA.overlay(cleaned, how='intersection')"
   ]
  },
  {
   "cell_type": "markdown",
   "id": "017074dc-4459-47d7-8a20-7688f24cd3b3",
   "metadata": {},
   "source": [
    "#### fix"
   ]
  },
  {
   "cell_type": "code",
   "execution_count": 85,
   "id": "02042284-c8ca-4cb9-a58d-565c145d8647",
   "metadata": {},
   "outputs": [],
   "source": [
    "# remove n of 85°\n",
    "fishnet_EA_filtered = fishnet_EA[(fishnet_EA['latitude'] < 85)]"
   ]
  },
  {
   "cell_type": "code",
   "execution_count": 86,
   "id": "48c368eb-dd85-438e-9b87-6c87bf5e0f3f",
   "metadata": {},
   "outputs": [
    {
     "name": "stderr",
     "output_type": "stream",
     "text": [
      "/isipd/projects-noreplica/p_initze/anaconda3/envs/ML2/lib/python3.9/site-packages/geopandas/geodataframe.py:2352: UserWarning: CRS mismatch between the CRS of left geometries and the CRS of right geometries.\n",
      "Use `to_crs()` to reproject one of the input geometries to match the CRS of the other.\n",
      "\n",
      "Left CRS: +proj=laea +lat_0=90 +lon_0=0 +x_0=0 +y_0=0 +ellps ...\n",
      "Right CRS: PROJCS[\"Sphere_ARC_INFO_Lambert_Azimuthal_Equal_Ar ...\n",
      "\n",
      "  return geopandas.overlay(\n"
     ]
    }
   ],
   "source": [
    "# calculate intersection\n",
    "intersection = fishnet_EA_filtered.overlay(cleaned, how='intersection')"
   ]
  },
  {
   "cell_type": "code",
   "execution_count": 87,
   "id": "14ba5156-e498-453c-b67d-9c54dcb81050",
   "metadata": {},
   "outputs": [],
   "source": [
    "intersection['pf_area'] = intersection.area * 1e-6"
   ]
  },
  {
   "cell_type": "code",
   "execution_count": 88,
   "id": "163cbb60-8c5d-4afb-84f7-4534a98b5af9",
   "metadata": {},
   "outputs": [],
   "source": [
    "intersection.to_file('intersected_PF_v2.gpkg')"
   ]
  },
  {
   "cell_type": "code",
   "execution_count": 89,
   "id": "1fd54984-b734-41f5-b41a-74c85faf35dc",
   "metadata": {},
   "outputs": [],
   "source": [
    "grouped = intersection.groupby(['latitude', 'EXTENT'], as_index=False).sum()"
   ]
  },
  {
   "cell_type": "code",
   "execution_count": 94,
   "id": "a8effb71-9ee6-4bb5-a9a3-f522a32ac7b2",
   "metadata": {},
   "outputs": [],
   "source": [
    "grouped.to_csv('pfextent_area_km2_per_latitude_01grid.csv')\n",
    "#yedoma_area_grouped.to_csv('yedoma_area_km2_per_latitude_001grid.csv')"
   ]
  },
  {
   "cell_type": "code",
   "execution_count": null,
   "id": "8b7cd870-2b54-4dca-944f-535e8f639305",
   "metadata": {},
   "outputs": [],
   "source": []
  }
 ],
 "metadata": {
  "kernelspec": {
   "display_name": "Python 3 (ipykernel)",
   "language": "python",
   "name": "python3"
  },
  "language_info": {
   "codemirror_mode": {
    "name": "ipython",
    "version": 3
   },
   "file_extension": ".py",
   "mimetype": "text/x-python",
   "name": "python",
   "nbconvert_exporter": "python",
   "pygments_lexer": "ipython3",
   "version": "3.9.13"
  }
 },
 "nbformat": 4,
 "nbformat_minor": 5
}
