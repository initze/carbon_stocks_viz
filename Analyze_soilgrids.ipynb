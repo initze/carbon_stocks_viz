{
 "cells": [
  {
   "cell_type": "markdown",
   "id": "8acd8500-5f68-4848-af9f-c1da1c5eeb46",
   "metadata": {},
   "source": [
    "# Notebook to analysze and summarize soildgrids data by latitude"
   ]
  },
  {
   "cell_type": "code",
   "execution_count": null,
   "id": "9bb38ca5-74d5-49e5-a6f8-728c8875c4af",
   "metadata": {},
   "outputs": [],
   "source": [
    "import geemap\n",
    "import seaborn as sns\n",
    "import matplotlib.pyplot as plt"
   ]
  },
  {
   "cell_type": "code",
   "execution_count": null,
   "id": "d72b38cd-7d73-450a-ae7b-64c871a00462",
   "metadata": {},
   "outputs": [],
   "source": [
    "ee.Initialize()"
   ]
  },
  {
   "cell_type": "markdown",
   "id": "4a10a520-f6b7-48e7-8821-1ae9e7204841",
   "metadata": {},
   "source": [
    "#### Soilgrids in GEE community catalog\n",
    "https://gee-community-catalog.org/projects/isric/"
   ]
  },
  {
   "cell_type": "code",
   "execution_count": null,
   "id": "e81b82c3-2bc7-4ec6-b88a-6ecf4e3276b5",
   "metadata": {},
   "outputs": [],
   "source": [
    "# Load the SoilGrids dataset for soil organic carbon stocks.\n",
    "isric_ocs = ee.Image(\"projects/soilgrids-isric/ocs_mean\")\n",
    "\n",
    "# calculate attribute value multiplied with grid size, scale to km²\n",
    "# gridcell = t/ha\n",
    "pixel_area = ee.Image.pixelArea().multiply(1e-4) # grid size in ha\n",
    "factor = 1e-9 # conversion t to Gt\n",
    "subset_soc = isric_ocs.multiply(pixel_area).multiply(factor)"
   ]
  },
  {
   "cell_type": "markdown",
   "id": "b2ba56b8-25db-4988-8e0a-49ff7efe450f",
   "metadata": {},
   "source": [
    "#### Geometry Setup "
   ]
  },
  {
   "cell_type": "code",
   "execution_count": null,
   "id": "9fa755c5-0ede-4de4-acc1-997444770da8",
   "metadata": {},
   "outputs": [],
   "source": [
    "# define 1 degree latitude range\n",
    "latRange_N = ee.Geometry.BBox(-180+0.001, 0, 180-0.001, 90)"
   ]
  },
  {
   "cell_type": "markdown",
   "id": "799f8da2-49b8-42f9-ab45-1403d8879cfe",
   "metadata": {},
   "source": [
    "#### Single cell "
   ]
  },
  {
   "cell_type": "code",
   "execution_count": null,
   "id": "15e0c9e7-5256-4652-9788-377ab2c9bc13",
   "metadata": {},
   "outputs": [],
   "source": [
    "out = subset_soc.reduceRegion(reducer=ee.Reducer.sum(), geometry=latRange_N, maxPixels=1e12)\n",
    "print(out.getInfo())"
   ]
  },
  {
   "cell_type": "code",
   "execution_count": null,
   "id": "cad4c9bd-e5f2-4b71-9d2d-77d43318b0b6",
   "metadata": {},
   "outputs": [],
   "source": [
    "fishnet = geemap.fishnet(latRange_N, h_interval=360, v_interval=1, intersect=False)"
   ]
  },
  {
   "cell_type": "code",
   "execution_count": null,
   "id": "5524ce27-f869-466b-a04d-86d566567358",
   "metadata": {},
   "outputs": [],
   "source": [
    "# reduce to grid cell\n",
    "reduced = subset_soc.reduceRegions(collection=fishnet, reducer=ee.Reducer.sum())\n",
    "# extract and save to df\n",
    "df = geemap.ee_to_df(reduced)"
   ]
  },
  {
   "cell_type": "code",
   "execution_count": null,
   "id": "0913304e-d92f-4cb9-8c6b-874b81d5128e",
   "metadata": {},
   "outputs": [],
   "source": [
    "df.to_csv('Total_Carbon_per_zone.csv')"
   ]
  },
  {
   "cell_type": "markdown",
   "id": "c74aa761-8cee-44f5-acd4-dd7be4417888",
   "metadata": {},
   "source": [
    "#### Analysis "
   ]
  },
  {
   "cell_type": "code",
   "execution_count": null,
   "id": "9c4bd7f3-cee7-4abf-aeee-cda168b7f423",
   "metadata": {},
   "outputs": [],
   "source": [
    "# rename for direct label naming in seaborn\n",
    "df_renamed = df.rename(columns={'south':'latitude', 'sum':'Carbon stocks Gt'})"
   ]
  },
  {
   "cell_type": "markdown",
   "id": "a16f01e7-f059-474f-aab2-85f6fe138943",
   "metadata": {},
   "source": [
    "### Figure"
   ]
  },
  {
   "cell_type": "code",
   "execution_count": null,
   "id": "fc32f74c-0f9d-436d-ae6a-02853535ab90",
   "metadata": {},
   "outputs": [],
   "source": [
    "# Total values\n",
    "df_renamed.sum(axis=0)"
   ]
  },
  {
   "cell_type": "code",
   "execution_count": null,
   "id": "1838c09c-98dc-49e5-af77-8b0b4369e620",
   "metadata": {},
   "outputs": [],
   "source": [
    "ax = sns.barplot(data=df_renamed, y='latitude', x='Carbon stocks Gt', orient='h', color='brown', width=1, alpha=0.8)\n",
    "ax.invert_yaxis()\n",
    "ax.set_yticks(range(0,90,10))\n",
    "plt.grid()"
   ]
  },
  {
   "cell_type": "code",
   "execution_count": null,
   "id": "e3da3c7b-0000-4f06-81fd-b4d7a41ed3e7",
   "metadata": {},
   "outputs": [],
   "source": []
  }
 ],
 "metadata": {
  "kernelspec": {
   "display_name": "Python 3 (ipykernel)",
   "language": "python",
   "name": "python3"
  },
  "language_info": {
   "codemirror_mode": {
    "name": "ipython",
    "version": 3
   },
   "file_extension": ".py",
   "mimetype": "text/x-python",
   "name": "python",
   "nbconvert_exporter": "python",
   "pygments_lexer": "ipython3",
   "version": "3.9.13"
  }
 },
 "nbformat": 4,
 "nbformat_minor": 5
}
