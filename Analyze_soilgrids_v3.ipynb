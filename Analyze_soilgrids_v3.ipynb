{
 "cells": [
  {
   "cell_type": "markdown",
   "id": "8acd8500-5f68-4848-af9f-c1da1c5eeb46",
   "metadata": {},
   "source": [
    "# Notebook to analysze and summarize soildgrids data by latitude"
   ]
  },
  {
   "cell_type": "code",
   "execution_count": 113,
   "id": "9bb38ca5-74d5-49e5-a6f8-728c8875c4af",
   "metadata": {},
   "outputs": [],
   "source": [
    "import geemap\n",
    "import ee\n",
    "import seaborn as sns\n",
    "import matplotlib.pyplot as plt\n",
    "import numpy as np\n",
    "import pandas as pd\n",
    "import tqdm.notebook as tqdm\n",
    "import geopandas as gpd\n",
    "from shapely.geometry import Polygon"
   ]
  },
  {
   "cell_type": "code",
   "execution_count": 3,
   "id": "ae4c5ced-9bd0-4b8c-bf3b-32cad7790829",
   "metadata": {},
   "outputs": [],
   "source": [
    "ee.Initialize()"
   ]
  },
  {
   "cell_type": "markdown",
   "id": "7a4d09ad-937e-42d1-b004-b75dfdcea291",
   "metadata": {},
   "source": [
    "### Functions"
   ]
  },
  {
   "cell_type": "code",
   "execution_count": 45,
   "id": "1d0e2abd-8dea-42cb-99fc-f49c94961b08",
   "metadata": {},
   "outputs": [],
   "source": [
    "def extract_values_per_latitude(image, lat_s, lat_n, chunk_size, reducer=ee.Reducer.sum(), intersection=None):\n",
    "    out_dfs = []\n",
    "    for i in tqdm.tqdm_notebook(np.arange(lat_s, lat_n, chunk_size)):\n",
    "        try:\n",
    "            # setup geoms\n",
    "            latRange = ee.Geometry.BBox(-180+0.001, int(i), 180-0.001, int(i+chunk_size))\n",
    "            fishnet = geemap.fishnet(latRange, h_interval=360, v_interval=1, intersect=False)\n",
    "            # reduce to grid cell - on server\n",
    "            reduced = image.reduceRegions(collection=fishnet, reducer=reducer)\n",
    "            # extract and save to df\n",
    "            df_temp = geemap.ee_to_df(reduced)\n",
    "            out_dfs.append(df_temp)\n",
    "        except:\n",
    "            print('Error, skipped', i)\n",
    "    # merge and clean\n",
    "    df = pd.concat(out_dfs)\n",
    "    df = df.drop_duplicates(subset=['north']).reset_index()\n",
    "    return df\n",
    "\n",
    "def create_fishnet(xmin, ymin, xmax, ymax, grid_size):\n",
    "    # Create a list of x and y coordinates for each cell in the fishnet\n",
    "    y_coords = list(range(int(ymin), int(ymax) + grid_size, grid_size))\n",
    "\n",
    "    # Create a list of polygons for each cell in the fishnet\n",
    "    polygons = []\n",
    "    for y in y_coords:\n",
    "        polygons.append(Polygon([(xmin, y), (xmax, y), (xmax, y + grid_size), (xmin, y + grid_size)]))\n",
    "    \n",
    "    # Create a GeoDataFrame from the list of polygons\n",
    "    fishnet = gpd.GeoDataFrame(geometry=polygons)\n",
    "    \n",
    "    # Set the coordinate reference system (CRS) to WGS84\n",
    "    fishnet.crs = 'EPSG:4326'\n",
    "    \n",
    "    # Add the southern latitude coordinate as an attribute\n",
    "    fishnet['latitude'] = fishnet.geometry.bounds['miny']\n",
    "    \n",
    "    return fishnet"
   ]
  },
  {
   "cell_type": "markdown",
   "id": "4a10a520-f6b7-48e7-8821-1ae9e7204841",
   "metadata": {},
   "source": [
    "### Soilgrids in GEE community catalog\n",
    "\n",
    "#### Information\n",
    "https://gee-community-catalog.org/projects/isric/\n",
    "* here we are calculating stocks in Gt per 1 degree latitude "
   ]
  },
  {
   "cell_type": "markdown",
   "id": "818c4b03-101f-46e3-83fd-449565847abf",
   "metadata": {},
   "source": [
    "#### Original SOC Stock layer\n",
    "* 0-30 cm"
   ]
  },
  {
   "cell_type": "code",
   "execution_count": 4,
   "id": "e81b82c3-2bc7-4ec6-b88a-6ecf4e3276b5",
   "metadata": {},
   "outputs": [],
   "source": [
    "# Load the SoilGrids dataset for soil organic carbon stocks.\n",
    "isric_ocs = ee.Image(\"projects/soilgrids-isric/ocs_mean\")\n",
    "\n",
    "# calculate attribute value multiplied with grid size, scale to km²\n",
    "# gridcell = t/ha\n",
    "pixel_area = ee.Image.pixelArea().multiply(1e-4) # grid size in ha\n",
    "factor = 1e-9 # conversion t to Gt\n",
    "subset_soc = isric_ocs.multiply(pixel_area).multiply(factor)"
   ]
  },
  {
   "cell_type": "markdown",
   "id": "ac9b6fd6-7745-4084-89ac-7b0d0d002e47",
   "metadata": {},
   "source": [
    "### Input Layers\n",
    "#### BDOD\n",
    "Bulk density of the fine earth fraction cg/cm³\n",
    "#### SOC\n",
    "Soil organic carbon content in the fine earth fraction dg/kg"
   ]
  },
  {
   "cell_type": "code",
   "execution_count": 82,
   "id": "8a2a7c98-4263-4ad7-81d8-85f347f79a58",
   "metadata": {},
   "outputs": [],
   "source": [
    "# Bulk density (cg/cm³)\n",
    "bdod = ee.Image('projects/soilgrids-isric/bdod_mean')\n",
    "# Soil organic carbon (dg/kg)\n",
    "soc = ee.Image('projects/soilgrids-isric/soc_mean')\n",
    "# Area per Pixel(m²)\n",
    "pixelArea = ee.Image.pixelArea()"
   ]
  },
  {
   "cell_type": "markdown",
   "id": "c6fb7acd-edf4-4094-89bf-b2260e1ff9db",
   "metadata": {},
   "source": [
    "#### replace band names\n",
    "* images need to have same band names for band calculation"
   ]
  },
  {
   "cell_type": "code",
   "execution_count": 6,
   "id": "6e4332d1-2baf-4c63-a6fb-3f043474b6fb",
   "metadata": {},
   "outputs": [],
   "source": [
    "oldNames = bdod.bandNames().getInfo()\n",
    "replace_string = 'bdod_'\n",
    "newNames = [n.replace(replace_string, '').replace('_mean', '') for n in oldNames]\n",
    "bdod_new = bdod.select(oldNames).rename(newNames)\n",
    "\n",
    "oldNames = soc.bandNames().getInfo()\n",
    "replace_string = 'soc_'\n",
    "newNames = [n.replace(replace_string, '').replace('_mean', '') for n in oldNames]\n",
    "soc_new = soc.select(oldNames).rename(newNames)"
   ]
  },
  {
   "cell_type": "markdown",
   "id": "d7c423d4-285d-4802-9d14-62346de898bb",
   "metadata": {},
   "source": [
    "#### Create image with layer thickness values as constant"
   ]
  },
  {
   "cell_type": "code",
   "execution_count": 7,
   "id": "11e0cd72-bea4-4516-a558-ccb886618b41",
   "metadata": {},
   "outputs": [],
   "source": [
    "thickness = ee.Image.constant(0.05).rename('0-5cm').addBands(ee.Image.constant(0.1).rename('5-15cm')).addBands(ee.Image.constant(0.15).rename('15-30cm')).addBands(ee.Image.constant(0.3).rename('30-60cm')).addBands(ee.Image.constant(0.4).rename('60-100cm')).addBands(ee.Image.constant(1).rename('100-200cm'))"
   ]
  },
  {
   "cell_type": "markdown",
   "id": "05b5d2c9-77f9-488f-827a-eb6af1a34c65",
   "metadata": {},
   "source": [
    "### Calculation\n",
    "* soc_pc = \"organic carbon percentage of the soil [%]\"\n",
    "* weight = \"soil weight per column [kg]\"\n",
    "* soc_stocks = \"soil organic carbon carbon stock per column in [t]"
   ]
  },
  {
   "cell_type": "code",
   "execution_count": 50,
   "id": "4e4b1664-fc31-4337-93ea-ef505908f4c4",
   "metadata": {},
   "outputs": [],
   "source": [
    "soc_pc = soc_new.divide(1000).multiply(bdod_new.divide(100))\n",
    "weight = bdod_new.multiply(10).multiply(thickness)\n",
    "soc_stocks = soc_pc.multiply(0.01).multiply(weight).multiply(pixelArea).divide(1000) #t per pixel\n",
    "pixel_area_extraction = soc_new.mask().multiply(pixelArea).multiply(1e-6).select(['0-5cm'])"
   ]
  },
  {
   "cell_type": "markdown",
   "id": "724ddf9c-18a6-4dc2-babd-da2901ae93b2",
   "metadata": {},
   "source": [
    "### Full global run\n",
    "* Full global runs will crash !!!\n",
    "* split into chunks of 10° latitude"
   ]
  },
  {
   "cell_type": "markdown",
   "id": "da125af2-c8a4-4f54-b833-9c641e62a8da",
   "metadata": {},
   "source": [
    "### Extract SOC stocks per depth "
   ]
  },
  {
   "cell_type": "code",
   "execution_count": 54,
   "id": "163eee2d-c074-4624-8502-ef49c077586d",
   "metadata": {},
   "outputs": [
    {
     "data": {
      "application/vnd.jupyter.widget-view+json": {
       "model_id": "97afe3fa054d4c82abd5870b756791f8",
       "version_major": 2,
       "version_minor": 0
      },
      "text/plain": [
       "  0%|          | 0/18 [00:00<?, ?it/s]"
      ]
     },
     "metadata": {},
     "output_type": "display_data"
    }
   ],
   "source": [
    "# params\n",
    "size = 10\n",
    "lat_s = -90\n",
    "lat_n = 90\n",
    "image = soc_stocks\n",
    "# run\n",
    "df_soc = extract_values_per_latitude(image, lat_s, lat_n, chunk_size=size)\n",
    "# save\n",
    "df_soc.to_csv('Total_Carbon_per_zone_global_1degreelat_v2_run3.csv')"
   ]
  },
  {
   "cell_type": "markdown",
   "id": "6ae6e8a9-42d5-4196-b43d-f48ea1ed051b",
   "metadata": {},
   "source": [
    "### Extract area "
   ]
  },
  {
   "cell_type": "markdown",
   "id": "c590477b-48b0-44aa-8ef0-9ed08d0e0350",
   "metadata": {},
   "source": [
    "#### Extract sum of pixel area "
   ]
  },
  {
   "cell_type": "code",
   "execution_count": 55,
   "id": "88b714a4-76b4-412c-bbe3-c7a8fd2ee8ef",
   "metadata": {},
   "outputs": [
    {
     "data": {
      "application/vnd.jupyter.widget-view+json": {
       "model_id": "2458984e62214d7d92ba4cb520aca4a7",
       "version_major": 2,
       "version_minor": 0
      },
      "text/plain": [
       "  0%|          | 0/90 [00:00<?, ?it/s]"
      ]
     },
     "metadata": {},
     "output_type": "display_data"
    },
    {
     "name": "stdout",
     "output_type": "stream",
     "text": [
      "Error, skipped -90\n",
      "Error, skipped 88\n"
     ]
    }
   ],
   "source": [
    "size = 2\n",
    "lat_s = -90\n",
    "lat_n = 90\n",
    "image = pixel_area_extraction\n",
    "# run\n",
    "df_area = extract_values_per_latitude(image, lat_s, lat_n, chunk_size=size)\n",
    "df_area.to_csv('Area_per_zone_global_1degreelat_v3.csv')"
   ]
  }
 ],
 "metadata": {
  "kernelspec": {
   "display_name": "Python 3 (ipykernel)",
   "language": "python",
   "name": "python3"
  },
  "language_info": {
   "codemirror_mode": {
    "name": "ipython",
    "version": 3
   },
   "file_extension": ".py",
   "mimetype": "text/x-python",
   "name": "python",
   "nbconvert_exporter": "python",
   "pygments_lexer": "ipython3",
   "version": "3.9.13"
  }
 },
 "nbformat": 4,
 "nbformat_minor": 5
}
