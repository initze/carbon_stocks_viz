{
 "cells": [
  {
   "cell_type": "markdown",
   "id": "8174a1b0-647c-439b-babf-9095e98f885d",
   "metadata": {},
   "source": [
    "# Notebook to download SoilGrids data\n",
    "Tutorial:\n",
    "https://git.wur.nl/isric/soilgrids/soilgrids.notebooks/-/blob/master/markdown/webdav_from_Python.md"
   ]
  },
  {
   "cell_type": "code",
   "execution_count": 11,
   "id": "b2275443-34c6-410d-892d-14155ee96c08",
   "metadata": {},
   "outputs": [],
   "source": [
    "import os"
   ]
  },
  {
   "cell_type": "code",
   "execution_count": 6,
   "id": "1f0921a1-ecb7-4c52-aecf-65e7a967258e",
   "metadata": {},
   "outputs": [],
   "source": [
    "#Testset Ghana\n",
    "\n",
    "BOUNDS=\"-337500.000 1242500.000 152500.000 527500.000\" # Example bounding box (homolosine) for Ghanaulx uly lrx lry\n",
    "CELL_SIZE=\"250 250\"\n",
    "\n",
    "IGH=\"+proj=igh +lat_0=0 +lon_0=0 +datum=WGS84 +units=m +no_defs\" # proj string for Homolosine projection\n",
    "SG_URL=\"/vsicurl?max_retry=3&retry_delay=1&list_dir=no&url=https://files.isric.org/soilgrids/latest/data\"\n",
    "\n",
    "s = f'gdal_translate -projwin {BOUNDS} -projwin_srs \"{IGH}\" -tr {CELL_SIZE} -co \"TILED=YES\" -co \"COMPRESS=DEFLATE\" -co \"PREDICTOR=2\" -co \"BIGTIFF=YES\" \"{SG_URL}/ocs/ocs_0-30cm_mean.vrt\" \"ocs_0-5cm_mean.tif\"'"
   ]
  },
  {
   "cell_type": "code",
   "execution_count": 14,
   "id": "9681dad0-1c64-419a-85b4-b22e092b98b9",
   "metadata": {},
   "outputs": [],
   "source": [
    "#Global\n",
    "\n",
    "#BOUNDS=\"-337500.000 1242500.000 152500.000 527500.000\" # Example bounding box (homolosine) for Ghanaulx uly lrx lry\n",
    "CELL_SIZE=\"250 250\"\n",
    "\n",
    "IGH=\"+proj=igh +lat_0=0 +lon_0=0 +datum=WGS84 +units=m +no_defs\" # proj string for Homolosine projection\n",
    "SG_URL=\"/vsicurl?max_retry=3&retry_delay=1&list_dir=no&url=https://files.isric.org/soilgrids/latest/data\"\n",
    "\n",
    "out_file = 'ocs_0-30cm_mean_global.tif'\n",
    "\n",
    "s = f'gdal_translate -projwin_srs \"{IGH}\" -tr {CELL_SIZE} -of \"GTiff\" -co \"COMPRESS=DEFLATE\" -co \"BIGTIFF=YES\" \"{SG_URL}/ocs/ocs_0-30cm_mean.vrt\" \"{out_file}\"'"
   ]
  },
  {
   "cell_type": "code",
   "execution_count": 15,
   "id": "642e3e9e-d5c0-4767-bc7c-0b1b9d9908f0",
   "metadata": {},
   "outputs": [
    {
     "name": "stdout",
     "output_type": "stream",
     "text": [
      "gdal_translate -projwin_srs \"+proj=igh +lat_0=0 +lon_0=0 +datum=WGS84 +units=m +no_defs\" -tr 250 250 -of \"GTiff\" -co \"COMPRESS=DEFLATE\" -co \"BIGTIFF=YES\" \"/vsicurl?max_retry=3&retry_delay=1&list_dir=no&url=https://files.isric.org/soilgrids/latest/data/ocs/ocs_0-30cm_mean.vrt\" \"ocs_0-30cm_mean_global.tif\"\n"
     ]
    }
   ],
   "source": [
    "print(s)"
   ]
  },
  {
   "cell_type": "code",
   "execution_count": 16,
   "id": "b2973475-44a2-4fe2-9034-70a5e63b7694",
   "metadata": {},
   "outputs": [
    {
     "name": "stdout",
     "output_type": "stream",
     "text": [
      "Input file size is 159246, 58034\n",
      "0...10...20...30...40...50...60...70...80...90...100 - done.\n"
     ]
    },
    {
     "data": {
      "text/plain": [
       "0"
      ]
     },
     "execution_count": 16,
     "metadata": {},
     "output_type": "execute_result"
    }
   ],
   "source": [
    "os.system(s)"
   ]
  },
  {
   "cell_type": "code",
   "execution_count": null,
   "id": "42f77c5a-336a-49a8-b607-b4f0c0f10f17",
   "metadata": {},
   "outputs": [],
   "source": []
  }
 ],
 "metadata": {
  "kernelspec": {
   "display_name": "Python 3 (ipykernel)",
   "language": "python",
   "name": "python3"
  },
  "language_info": {
   "codemirror_mode": {
    "name": "ipython",
    "version": 3
   },
   "file_extension": ".py",
   "mimetype": "text/x-python",
   "name": "python",
   "nbconvert_exporter": "python",
   "pygments_lexer": "ipython3",
   "version": "3.9.13"
  }
 },
 "nbformat": 4,
 "nbformat_minor": 5
}
